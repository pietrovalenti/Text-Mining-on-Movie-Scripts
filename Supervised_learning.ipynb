{
 "cells": [
  {
   "cell_type": "markdown",
   "metadata": {},
   "source": [
    "# Supervised Learning"
   ]
  },
  {
   "cell_type": "markdown",
   "metadata": {},
   "source": [
    "## Librerie"
   ]
  },
  {
   "cell_type": "code",
   "execution_count": 19,
   "metadata": {},
   "outputs": [],
   "source": [
    "import os\n",
    "import re\n",
    "import string\n",
    "import time\n",
    "import numpy as np\n",
    "import pandas as pd\n",
    "import matplotlib.pyplot as plt\n",
    "import seaborn as sns\n",
    "\n",
    "import tensorflow as tf\n",
    "from tensorflow import keras\n",
    "from tensorflow.keras.models import Sequential\n",
    "from tensorflow.keras.layers import Input, Dense, Activation, Flatten, Conv1D, MaxPooling1D, Dropout, BatchNormalization\n",
    "from keras.utils.vis_utils import plot_model\n",
    "from tensorflow.keras import regularizers\n",
    "\n",
    "import nltk\n",
    "from nltk.tokenize import WordPunctTokenizer\n",
    "from nltk.stem import WordNetLemmatizer \n",
    "\n",
    "from collections import Counter\n",
    "\n",
    "from gensim.models.doc2vec import Doc2Vec, TaggedDocument\n",
    "\n",
    "from sklearn.preprocessing import MinMaxScaler, LabelEncoder, MaxAbsScaler\n",
    "from sklearn.feature_extraction.text import CountVectorizer, TfidfVectorizer\n",
    "from sklearn.metrics import classification_report, confusion_matrix\n",
    "from sklearn.metrics.pairwise import cosine_similarity\n",
    "from sklearn.utils import shuffle\n",
    "\n",
    "from sklearn.cluster import DBSCAN, KMeans\n",
    "\n",
    "from sklearn.decomposition import PCA, TruncatedSVD, SparsePCA\n",
    "from sklearn.manifold import TSNE\n",
    "\n"
   ]
  },
  {
   "cell_type": "code",
   "execution_count": null,
   "metadata": {},
   "outputs": [],
   "source": [
    "### Da eseguire solo la prima volta\n",
    "#nltk.download(\"stopwords\")\n",
    "#nltk.download('wordnet')"
   ]
  },
  {
   "cell_type": "markdown",
   "metadata": {},
   "source": [
    "## Pre Processing"
   ]
  },
  {
   "cell_type": "markdown",
   "metadata": {},
   "source": [
    "Il primo passo per lo sviluppo della classificazione consiste nella definizione delle operazioni di pre-processing; definiamo quindi la funzione preprocText(), la quale prende in input un documento in linguaggio naturale, lo traduce in inglese, splitta i singoli termini, rende tutti i caratteri minuscoli e applica una tokenizzazione. Dopo tali operazione viene applicata la rimozione delle stopwords e la lemmatization."
   ]
  },
  {
   "cell_type": "code",
   "execution_count": 2,
   "metadata": {},
   "outputs": [],
   "source": [
    "stop_words = nltk.corpus.stopwords.words('english')\n",
    "lemmatizer = WordNetLemmatizer() "
   ]
  },
  {
   "cell_type": "code",
   "execution_count": 3,
   "metadata": {},
   "outputs": [],
   "source": [
    "#Stop Words Download, run just once\n",
    "#nltk.download('stopwords')\n",
    "\n",
    "def preprocText(text):\n",
    "    text = re.sub(r'\\d', '', text)\n",
    "    text = re.sub(\"([\\(\\[]).*?([\\)\\]])\", \"\\g<1>\\g<2>\", text)\n",
    "    text = text.translate(str.maketrans('','',string.punctuation)).lower()\n",
    "    tokenized_text = WordPunctTokenizer().tokenize(text)\n",
    "\n",
    "    ##REMOVING STOPWORDS\n",
    "    tokenized_text_without_stopwords = []\n",
    "    for token in tokenized_text:\n",
    "        if token not in stop_words:\n",
    "            token = lemmatizer.lemmatize(token)\n",
    "            if(len(token)) > 2:\n",
    "                tokenized_text_without_stopwords.append(token)\n",
    "        \n",
    "    return tokenized_text_without_stopwords"
   ]
  },
  {
   "cell_type": "markdown",
   "metadata": {},
   "source": [
    "A questo punto è possibile importare i dati d'interesse; dalla base di dati iniziali vengono conservati solo il copione e il genere, e si applica un filtraggio per mantenere solo i ilm drammatici, d'azione, le commedie, gli horror e i documentari. Tali generi rappresenteranno le label impiegate per la classificazione."
   ]
  },
  {
   "cell_type": "code",
   "execution_count": 4,
   "metadata": {},
   "outputs": [
    {
     "data": {
      "text/plain": [
       "Drama          5436\n",
       "Comedy         3624\n",
       "Action         2456\n",
       "Horror         1760\n",
       "Documentary    1179\n",
       "Name: Genres, dtype: int64"
      ]
     },
     "execution_count": 4,
     "metadata": {},
     "output_type": "execute_result"
    }
   ],
   "source": [
    "df = pd.read_csv('final.csv')\n",
    "genresToKeep = ['Drama','Comedy','Action','Horror','Documentary']\n",
    "df = df[df['Genres'].isin(genresToKeep)]\n",
    "#df = df.iloc[0:4000]\n",
    "df.Genres.value_counts()"
   ]
  },
  {
   "cell_type": "markdown",
   "metadata": {},
   "source": [
    "Come si può notare vi è un significativo sbilanciamento all'interno dei generi, con Drama che presenta la frequenze maggiore e Documentary quella minore. Come sistema per risolvere tale sbilanciamento (il quale può portare ad una valutazione dell'accuratezza errata) si applica l'undersampling per riportare ciascuna classe all dimensione della minore (1179)."
   ]
  },
  {
   "cell_type": "code",
   "execution_count": 5,
   "metadata": {},
   "outputs": [
    {
     "data": {
      "text/plain": [
       "Documentary    1179\n",
       "Action         1179\n",
       "Drama          1179\n",
       "Horror         1179\n",
       "Comedy         1179\n",
       "Name: Genres, dtype: int64"
      ]
     },
     "execution_count": 5,
     "metadata": {},
     "output_type": "execute_result"
    }
   ],
   "source": [
    "from imblearn.under_sampling import RandomUnderSampler\n",
    "\n",
    "X = df.iloc[:, :-1]\n",
    "y = df.iloc[:, -1]\n",
    "\n",
    "rus = RandomUnderSampler(replacement=False)\n",
    "X, y= rus.fit_sample(X, y)\n",
    "y.value_counts()"
   ]
  },
  {
   "cell_type": "code",
   "execution_count": 6,
   "metadata": {},
   "outputs": [],
   "source": [
    "#Selezioni i primi n film\n",
    "n = len(X)\n",
    "docs_raw = X.filmScript\n",
    "n = len(docs_raw)"
   ]
  },
  {
   "cell_type": "markdown",
   "metadata": {},
   "source": [
    "A questo punto si applica la funzione di pre-processing inizialmente definita all'intero corpus; tale operazione risulterà necessaria per l'applicazione del Word Embedding."
   ]
  },
  {
   "cell_type": "code",
   "execution_count": 7,
   "metadata": {},
   "outputs": [],
   "source": [
    "processedScripts = [preprocText(item) for item in docs_raw]"
   ]
  },
  {
   "cell_type": "markdown",
   "metadata": {},
   "source": [
    "##  Features Extraction"
   ]
  },
  {
   "cell_type": "markdown",
   "metadata": {},
   "source": [
    "La features extraction risulta il procedimento più importante della classificazione; al fine di considerare diverse opzioni vegono definite di seguito 3 tecniche di Word Embedding:  \n",
    "- Doc2Vec\n",
    "- Truncated Singular Value Decomposition (TSVD) sulla Term-Frequency (TF) e sulla Term-Frequency Inverse-Document-frequency (TFIDF)  \n",
    "- Glove\n",
    "\n",
    "Dopo una serie di simulazioni il GloVe risulta il più efficiente."
   ]
  },
  {
   "cell_type": "markdown",
   "metadata": {},
   "source": [
    "### Doc2Vec"
   ]
  },
  {
   "cell_type": "code",
   "execution_count": 8,
   "metadata": {},
   "outputs": [
    {
     "name": "stdout",
     "output_type": "stream",
     "text": [
      "Word2Vec Matrix shape:  (5895, 300)\n",
      "Wall time: 4min 41s\n"
     ]
    }
   ],
   "source": [
    "%%time\n",
    "#Circa 5 min per runnare\n",
    "#hyper-parameters Word2Vec\n",
    "n_features = 300\n",
    "window_length = 5 \n",
    "\n",
    "#Ceo TaggedDocument necessario a gensim per il modello word2vec\n",
    "documents = [TaggedDocument(doc, [i]) for i, doc in enumerate(processedScripts)]\n",
    "#deploy e training del modello\n",
    "model = Doc2Vec(documents, vector_size=n_features, window=window_length, min_count=1)\n",
    "#Costruisco matrice finale\n",
    "Doc2Vec = []\n",
    "for i in range(0,n):\n",
    "    Doc2Vec.append(model[i])\n",
    "Doc2Vec = np.array(Doc2Vec)\n",
    "print(\"Word2Vec Matrix shape: \", Doc2Vec.shape)"
   ]
  },
  {
   "cell_type": "markdown",
   "metadata": {},
   "source": [
    "### Singular Value Decomposition a partire da TF e TFIDF"
   ]
  },
  {
   "cell_type": "code",
   "execution_count": 9,
   "metadata": {},
   "outputs": [
    {
     "name": "stderr",
     "output_type": "stream",
     "text": [
      "C:\\Users\\Pietro\\anaconda3\\lib\\site-packages\\sklearn\\feature_extraction\\text.py:1796: UserWarning: Only (<class 'numpy.float64'>, <class 'numpy.float32'>, <class 'numpy.float16'>) 'dtype' should be used. <class 'numpy.int64'> 'dtype' will be converted to np.float64.\n",
      "  warnings.warn(\"Only {} 'dtype' should be used. {} 'dtype' will \"\n"
     ]
    },
    {
     "name": "stdout",
     "output_type": "stream",
     "text": [
      "Wall time: 55.7 s\n"
     ]
    }
   ],
   "source": [
    "%%time\n",
    "#Frequency\n",
    "tf_vectorizer = CountVectorizer(strip_accents = 'unicode',\n",
    "                                stop_words = 'english',\n",
    "                                lowercase = True,\n",
    "                                token_pattern = r'\\b[a-zA-Z]{3,}\\b',\n",
    "                                max_df = 0.5, \n",
    "                                min_df = 10)\n",
    "dtm_tf = tf_vectorizer.fit_transform(docs_raw)\n",
    "\n",
    "#tfidf\n",
    "tfidf_vectorizer = TfidfVectorizer(**tf_vectorizer.get_params())\n",
    "dtm_tfidf = tfidf_vectorizer.fit_transform(docs_raw)\n"
   ]
  },
  {
   "cell_type": "code",
   "execution_count": 10,
   "metadata": {},
   "outputs": [
    {
     "name": "stdout",
     "output_type": "stream",
     "text": [
      "Wall time: 38.5 s\n"
     ]
    }
   ],
   "source": [
    "%%time\n",
    "## TF performa leggermente meglio di TFIDF, in generale SVD decisamente meglio di Word2Vec ma leggermente peggiore di GloVe\n",
    "pca = TruncatedSVD(n_components=200)\n",
    "dataTF = pca.fit_transform(dtm_tf)\n",
    "dataTFIDF = pca.fit_transform(dtm_tfidf)"
   ]
  },
  {
   "cell_type": "markdown",
   "metadata": {},
   "source": [
    "### GloVe"
   ]
  },
  {
   "cell_type": "code",
   "execution_count": 11,
   "metadata": {},
   "outputs": [
    {
     "name": "stdout",
     "output_type": "stream",
     "text": [
      "[('queen', 0.6978678703308105)]\n"
     ]
    }
   ],
   "source": [
    "#CONVERTE GLOVE A WORD2VEC PER ESSERE UTILIZZATO DA GENSIM, DA RUNNARE 1 SOLA VOLTA PER OTTENERE IL FILE\n",
    "\n",
    "#from gensim.scripts.glove2word2vec import glove2word2vec\n",
    "#glove_input_file = 'glove.6B.200d.txt'\n",
    "#word2vec_output_file = 'glove.6B.200d.txt.word2vec'\n",
    "#glove2word2vec(glove_input_file, word2vec_output_file)\n",
    "\n",
    "#Carico il modello\n",
    "from gensim.models import KeyedVectors\n",
    "filename = 'glove.6B.200d.txt.word2vec'\n",
    "model = KeyedVectors.load_word2vec_format(filename, binary=False)\n",
    "\n",
    "\n",
    "#Test: (king - man) + woman = ?\n",
    "result = model.most_similar(positive=['woman', 'king'], negative=['man'], topn=1)\n",
    "print(result)"
   ]
  },
  {
   "cell_type": "code",
   "execution_count": 12,
   "metadata": {},
   "outputs": [
    {
     "data": {
      "text/plain": [
       "(5895, 200)"
      ]
     },
     "execution_count": 12,
     "metadata": {},
     "output_type": "execute_result"
    }
   ],
   "source": [
    "#ESTRAGGO VETTORE GLOVE DEL DOCUMENTO A PARTIRE DAI VETTORI DELLE SIGNOLE PAROLE\n",
    "#Se la parola non è presente del vocabolario passo array di 0\n",
    "GloVe = []\n",
    "for document in processedScripts:\n",
    "    documentRepr = []\n",
    "    for word in document:\n",
    "        try:\n",
    "            documentRepr.append(model.get_vector(word))\n",
    "        except Exception:\n",
    "            documentRepr.append( np.zeros(200))\n",
    "    GloVe.append( np.mean(np.array(documentRepr),axis=0) )\n",
    "GloVe = np.array(GloVe)\n",
    "GloVe.shape"
   ]
  },
  {
   "cell_type": "markdown",
   "metadata": {},
   "source": [
    "## Definizione Training e Test"
   ]
  },
  {
   "cell_type": "markdown",
   "metadata": {},
   "source": [
    "A partire dal GloVe vengono definiti training e test sia per le features, sia per le labels"
   ]
  },
  {
   "cell_type": "markdown",
   "metadata": {},
   "source": [
    "#### Standardizzazione"
   ]
  },
  {
   "cell_type": "code",
   "execution_count": 13,
   "metadata": {},
   "outputs": [],
   "source": [
    "from sklearn.preprocessing import StandardScaler\n",
    "scaler = StandardScaler()\n",
    "#dataTF = scaler.fit_transform(dataTF)\n",
    "#dataTFIDF = scaler.fit_transform(dataTFIDF)\n",
    "#dataW2V = scaler.fit_transform(Doc2Vec)\n",
    "dataGloVe = scaler.fit_transform(GloVe)"
   ]
  },
  {
   "cell_type": "markdown",
   "metadata": {},
   "source": [
    "### Scelta dati e split"
   ]
  },
  {
   "cell_type": "code",
   "execution_count": 14,
   "metadata": {},
   "outputs": [
    {
     "data": {
      "text/plain": [
       "(5895, 200)"
      ]
     },
     "execution_count": 14,
     "metadata": {},
     "output_type": "execute_result"
    }
   ],
   "source": [
    "dataGloVe.shape"
   ]
  },
  {
   "cell_type": "code",
   "execution_count": 15,
   "metadata": {},
   "outputs": [],
   "source": [
    "from sklearn.model_selection import train_test_split\n",
    "from sklearn.preprocessing import LabelEncoder\n",
    "\n",
    "num_classes = 5\n",
    "le = LabelEncoder()\n",
    "label = keras.utils.to_categorical(le.fit_transform(y), num_classes)                   #One Hot Encoding\n",
    "\n",
    "#SCEGLIERE DATI\n",
    "#data = np.expand_dims(dataW2V, axis=-1)       \n",
    "#data = np.expand_dims(dataTF, axis=-1)\n",
    "#data = np.expand_dims(dataTFIDF, axis=-1)\n",
    "data = np.expand_dims(dataGloVe, axis=-1)       \n",
    "\n",
    "x_train, x_test, y_train, y_test = train_test_split(data, label, test_size=0.33, random_state=42)"
   ]
  },
  {
   "cell_type": "markdown",
   "metadata": {},
   "source": [
    "## Classificazione"
   ]
  },
  {
   "cell_type": "markdown",
   "metadata": {},
   "source": [
    "### 1) Shallow ANN"
   ]
  },
  {
   "cell_type": "markdown",
   "metadata": {},
   "source": [
    "Il primo modello consiste in una rete neurale shallow; la composizione è la seguente:  \n",
    "- Layer Fully Connected, 128 nodi, attivazione relu e regolarizzazione\n",
    "- Batch Normalization  \n",
    "- Dropout  \n",
    "- Layer Fully Connected, 64 nodi, attivazione relu e regolarizzazione  \n",
    "- Dropout  \n",
    "- Layer Fully Connected, 32 nodi, attivazione sigmoidale  \n",
    "- Dropout  \n",
    "- Layer Fully Connected di output  "
   ]
  },
  {
   "cell_type": "code",
   "execution_count": 20,
   "metadata": {},
   "outputs": [
    {
     "name": "stdout",
     "output_type": "stream",
     "text": [
      "Model: \"sequential\"\n",
      "_________________________________________________________________\n",
      "Layer (type)                 Output Shape              Param #   \n",
      "=================================================================\n",
      "flatten_2 (Flatten)          (None, 200)               0         \n",
      "_________________________________________________________________\n",
      "dense_1 (Dense)              (None, 128)               25728     \n",
      "_________________________________________________________________\n",
      "batch_normalization (BatchNo (None, 128)               512       \n",
      "_________________________________________________________________\n",
      "dropout (Dropout)            (None, 128)               0         \n",
      "_________________________________________________________________\n",
      "dense_2 (Dense)              (None, 64)                8256      \n",
      "_________________________________________________________________\n",
      "dropout_1 (Dropout)          (None, 64)                0         \n",
      "_________________________________________________________________\n",
      "dense_3 (Dense)              (None, 32)                2080      \n",
      "_________________________________________________________________\n",
      "dropout_2 (Dropout)          (None, 32)                0         \n",
      "_________________________________________________________________\n",
      "dense_4 (Dense)              (None, 5)                 165       \n",
      "=================================================================\n",
      "Total params: 36,741\n",
      "Trainable params: 36,485\n",
      "Non-trainable params: 256\n",
      "_________________________________________________________________\n"
     ]
    }
   ],
   "source": [
    "input_shape = x_train.shape[1:]\n",
    "#Declaring, compiling, and running the model\n",
    "model = keras.Sequential(\n",
    "    [\n",
    "        Input(shape=input_shape, name='input'),\n",
    "        Flatten(),\n",
    "        Dense(128, activation = 'relu', kernel_regularizer=regularizers.l1_l2(l1=1e-5, l2=1e-4),\n",
    "                                                     bias_regularizer=regularizers.l1(1e-4),\n",
    "                                                    activity_regularizer=regularizers.l1(1e-5)),\n",
    "        BatchNormalization(),\n",
    "        Dropout(0.5),\n",
    "        \n",
    "        Dense(64, activation = 'relu', kernel_regularizer=regularizers.l1_l2(l1=1e-5, l2=1e-4),\n",
    "                                                    bias_regularizer=regularizers.l1(1e-4),\n",
    "                                                    activity_regularizer=regularizers.l1(1e-5)),\n",
    "        Dropout(0.5),\n",
    "        \n",
    "        Dense(32, activation = 'sigmoid'),\n",
    "        Dropout(0.5),\n",
    "        \n",
    "        Dense(num_classes, activation='softmax')\n",
    "    ]\n",
    ")\n",
    "\n",
    "model.summary()\n"
   ]
  },
  {
   "cell_type": "markdown",
   "metadata": {},
   "source": [
    "Di seguito viene fittato il modello con ottimizzatore adam; vengono inoltre mostrate le metriche di performance e la confusion matrix"
   ]
  },
  {
   "cell_type": "code",
   "execution_count": 21,
   "metadata": {},
   "outputs": [
    {
     "name": "stdout",
     "output_type": "stream",
     "text": [
      "[[313  35   5  28  39]\n",
      " [ 35 256  11  59  21]\n",
      " [  9  14 339  10   8]\n",
      " [ 50  98  17 167  48]\n",
      " [ 31  15   2  31 305]]\n",
      "              precision    recall  f1-score   support\n",
      "\n",
      "           0       0.71      0.75      0.73       420\n",
      "           1       0.61      0.67      0.64       382\n",
      "           2       0.91      0.89      0.90       380\n",
      "           3       0.57      0.44      0.49       380\n",
      "           4       0.72      0.79      0.76       384\n",
      "\n",
      "    accuracy                           0.71      1946\n",
      "   macro avg       0.70      0.71      0.70      1946\n",
      "weighted avg       0.70      0.71      0.70      1946\n",
      "\n",
      "Wall time: 12.5 s\n"
     ]
    },
    {
     "data": {
      "text/plain": [
       "<matplotlib.image.AxesImage at 0x192b21ca1c0>"
      ]
     },
     "execution_count": 21,
     "metadata": {},
     "output_type": "execute_result"
    },
    {
     "data": {
      "image/png": "[encoded data removed]",
      "text/plain": [
       "<Figure size 432x288 with 1 Axes>"
      ]
     },
     "metadata": {
      "needs_background": "light"
     },
     "output_type": "display_data"
    }
   ],
   "source": [
    "%%time\n",
    "model.compile(loss = keras.losses.categorical_crossentropy,\n",
    "             optimizer = keras.optimizers.Adam(),\n",
    "             metrics = ['accuracy'])\n",
    "\n",
    "history = model.fit(x_train, y_train,\n",
    "          batch_size=100,\n",
    "          epochs=50,\n",
    "          verbose=0,\n",
    "          validation_data=(x_test,y_test),\n",
    "          shuffle = True\n",
    "         )\n",
    "\n",
    "y_pred = model.predict(x_test)\n",
    "y_pred = np.argmax(y_pred, axis=1)\n",
    "y_test_raw = np.argmax(y_test, axis=1)\n",
    "cm = confusion_matrix(y_test_raw, y_pred)\n",
    "print(cm)\n",
    "print(classification_report(y_test_raw, y_pred))\n",
    "plt.imshow(cm, cmap=plt.cm.Blues)"
   ]
  },
  {
   "cell_type": "markdown",
   "metadata": {},
   "source": [
    "Di seguito vengono mostrate accuracy e loss in funzione delle epochs"
   ]
  },
  {
   "cell_type": "code",
   "execution_count": 22,
   "metadata": {},
   "outputs": [
    {
     "data": {
      "image/png": "[encoded data removed]",
      "text/plain": [
       "<Figure size 432x288 with 1 Axes>"
      ]
     },
     "metadata": {
      "needs_background": "light"
     },
     "output_type": "display_data"
    },
    {
     "data": {
      "image/png": "[encoded data removed]",
      "text/plain": [
       "<Figure size 432x288 with 1 Axes>"
      ]
     },
     "metadata": {
      "needs_background": "light"
     },
     "output_type": "display_data"
    }
   ],
   "source": [
    "# summarize history for accuracy\n",
    "plt.plot(history.history['accuracy'])\n",
    "plt.plot(history.history['val_accuracy'])\n",
    "plt.title('model accuracy')\n",
    "plt.ylabel('accuracy')\n",
    "plt.xlabel('epoch')\n",
    "plt.legend(['train', 'test'], loc='upper left')\n",
    "plt.show()\n",
    "# summarize history for loss\n",
    "plt.plot(history.history['loss'])\n",
    "plt.plot(history.history['val_loss'])\n",
    "plt.title('model loss')\n",
    "plt.ylabel('loss')\n",
    "plt.xlabel('epoch')\n",
    "plt.legend(['train', 'test'], loc='upper left')\n",
    "plt.show()"
   ]
  },
  {
   "cell_type": "markdown",
   "metadata": {},
   "source": [
    "### 2) Convolutional Neural Network (CNN)"
   ]
  },
  {
   "cell_type": "markdown",
   "metadata": {},
   "source": [
    "Il secondo modello è una rete con 2 strati convoluzionali; la composizione è la seguente:  \n",
    "- 2 strati convoluzionali con attivazione relu  \n",
    "- Dropout  \n",
    "- MaxPooling  \n",
    "- Flatten  \n",
    "- Fully connected, 100 nodi, con attivazione relu  e regolarizzazione  \n",
    "- Dropout  \n",
    "- Fully connected, 50 nodi, con attivazione sigmoidale\n",
    "- Dropout  \n",
    "- Fully Connected di output"
   ]
  },
  {
   "cell_type": "code",
   "execution_count": 23,
   "metadata": {},
   "outputs": [],
   "source": [
    "from keras import regularizers \n",
    "input_shape = x_train.shape"
   ]
  },
  {
   "cell_type": "code",
   "execution_count": 24,
   "metadata": {},
   "outputs": [
    {
     "name": "stdout",
     "output_type": "stream",
     "text": [
      "Model: \"sequential_1\"\n",
      "_________________________________________________________________\n",
      "Layer (type)                 Output Shape              Param #   \n",
      "=================================================================\n",
      "conv1d (Conv1D)              (None, 198, 64)           256       \n",
      "_________________________________________________________________\n",
      "conv1d_1 (Conv1D)            (None, 196, 64)           12352     \n",
      "_________________________________________________________________\n",
      "dropout_3 (Dropout)          (None, 196, 64)           0         \n",
      "_________________________________________________________________\n",
      "max_pooling1d (MaxPooling1D) (None, 65, 64)            0         \n",
      "_________________________________________________________________\n",
      "flatten_3 (Flatten)          (None, 4160)              0         \n",
      "_________________________________________________________________\n",
      "dense_5 (Dense)              (None, 100)               416100    \n",
      "_________________________________________________________________\n",
      "dropout_4 (Dropout)          (None, 100)               0         \n",
      "_________________________________________________________________\n",
      "dense_6 (Dense)              (None, 50)                5050      \n",
      "_________________________________________________________________\n",
      "dropout_5 (Dropout)          (None, 50)                0         \n",
      "_________________________________________________________________\n",
      "dense_7 (Dense)              (None, 5)                 255       \n",
      "=================================================================\n",
      "Total params: 434,013\n",
      "Trainable params: 434,013\n",
      "Non-trainable params: 0\n",
      "_________________________________________________________________\n"
     ]
    }
   ],
   "source": [
    "#Declaring, compiling, and running the model\n",
    "cnn = keras.Sequential(\n",
    "    [\n",
    "        Conv1D(filters=64, kernel_size=3, activation='relu', input_shape=(input_shape[1], input_shape[2])),\n",
    "        Conv1D(filters=64, kernel_size=3, activation='relu'),\n",
    "        Dropout(0.5),\n",
    "        MaxPooling1D(pool_size=3),\n",
    "        Flatten(),\n",
    "        \n",
    "        Dense(100, activation='relu', kernel_regularizer=regularizers.l1_l2(l1=1e-5, l2=1e-4),\n",
    "                                      bias_regularizer=regularizers.l2(1e-4),\n",
    "                                      activity_regularizer=regularizers.l2(1e-5)),\n",
    "        Dropout(0.5),\n",
    "        \n",
    "        Dense(50, activation='sigmoid'),\n",
    "        Dropout(0.4),\n",
    "        \n",
    "        Dense(num_classes, activation='softmax')\n",
    "    ]\n",
    ")\n",
    "\n",
    "cnn.summary()"
   ]
  },
  {
   "cell_type": "markdown",
   "metadata": {},
   "source": [
    "Di seguito viene fittato il modello con ottimizzatore adam; vengono inoltre mostrate le metriche di performance e la confusion matrix"
   ]
  },
  {
   "cell_type": "code",
   "execution_count": 25,
   "metadata": {},
   "outputs": [
    {
     "name": "stdout",
     "output_type": "stream",
     "text": [
      "[[313  35   5  28  39]\n",
      " [ 35 256  11  59  21]\n",
      " [  9  14 339  10   8]\n",
      " [ 50  98  17 167  48]\n",
      " [ 31  15   2  31 305]]\n",
      "              precision    recall  f1-score   support\n",
      "\n",
      "           0       0.71      0.75      0.73       420\n",
      "           1       0.61      0.67      0.64       382\n",
      "           2       0.91      0.89      0.90       380\n",
      "           3       0.57      0.44      0.49       380\n",
      "           4       0.72      0.79      0.76       384\n",
      "\n",
      "    accuracy                           0.71      1946\n",
      "   macro avg       0.70      0.71      0.70      1946\n",
      "weighted avg       0.70      0.71      0.70      1946\n",
      "\n",
      "Wall time: 2min 14s\n"
     ]
    },
    {
     "data": {
      "text/plain": [
       "<matplotlib.image.AxesImage at 0x192b4a7a3d0>"
      ]
     },
     "execution_count": 25,
     "metadata": {},
     "output_type": "execute_result"
    },
    {
     "data": {
      "image/png": "[encoded data removed]",
      "text/plain": [
       "<Figure size 432x288 with 1 Axes>"
      ]
     },
     "metadata": {
      "needs_background": "light"
     },
     "output_type": "display_data"
    }
   ],
   "source": [
    "%%time\n",
    "cnn.compile(loss = keras.losses.categorical_crossentropy,\n",
    "             optimizer = keras.optimizers.Adam(),\n",
    "             metrics = ['accuracy'])\n",
    "\n",
    "history_cnn = cnn.fit(x_train, y_train,\n",
    "          batch_size=200,\n",
    "          epochs=50,\n",
    "          verbose=0,\n",
    "          validation_data=(x_test,y_test),\n",
    "          shuffle = True\n",
    "         )\n",
    "\n",
    "cnn_pred = model.predict(x_test)\n",
    "cnn_pred = np.argmax(cnn_pred, axis=1)\n",
    "y_test_raw = np.argmax(y_test, axis=1)\n",
    "cm_cnn = confusion_matrix(y_test_raw, cnn_pred)\n",
    "print(cm_cnn)\n",
    "print(classification_report(y_test_raw, cnn_pred))\n",
    "plt.imshow(cm_cnn, cmap=plt.cm.Blues)"
   ]
  },
  {
   "cell_type": "markdown",
   "metadata": {},
   "source": [
    "Di seguito vengono mostrate accuracy e loss in funzione delle epochs"
   ]
  },
  {
   "cell_type": "code",
   "execution_count": 26,
   "metadata": {},
   "outputs": [
    {
     "data": {
      "image/png": "[encoded data removed]",
      "text/plain": [
       "<Figure size 432x288 with 1 Axes>"
      ]
     },
     "metadata": {
      "needs_background": "light"
     },
     "output_type": "display_data"
    },
    {
     "data": {
      "image/png": "[encoded data removed]",
      "text/plain": [
       "<Figure size 432x288 with 1 Axes>"
      ]
     },
     "metadata": {
      "needs_background": "light"
     },
     "output_type": "display_data"
    }
   ],
   "source": [
    "# summarize history for accuracy\n",
    "plt.plot(history_cnn.history['accuracy'])\n",
    "plt.plot(history_cnn.history['val_accuracy'])\n",
    "plt.title('cnn accuracy')\n",
    "plt.ylabel('accuracy')\n",
    "plt.xlabel('epoch')\n",
    "plt.legend(['train', 'test'], loc='upper left')\n",
    "plt.show()\n",
    "# summarize history for loss\n",
    "plt.plot(history_cnn.history['loss'])\n",
    "plt.plot(history_cnn.history['val_loss'])\n",
    "plt.title('cnn loss')\n",
    "plt.ylabel('loss')\n",
    "plt.xlabel('epoch')\n",
    "plt.legend(['train', 'test'], loc='upper left')\n",
    "plt.show()"
   ]
  },
  {
   "cell_type": "markdown",
   "metadata": {},
   "source": [
    "### 3) SVM"
   ]
  },
  {
   "cell_type": "markdown",
   "metadata": {},
   "source": [
    "Il terzo classificatore è una Support Vector Machine con kernel radial basis function. La parte commentata contiene il tuning dei parametri tramite Cross Validation"
   ]
  },
  {
   "cell_type": "code",
   "execution_count": 27,
   "metadata": {},
   "outputs": [],
   "source": [
    "from sklearn.model_selection import train_test_split\n",
    "from sklearn.svm import SVC \n",
    "from sklearn.model_selection import cross_val_score, GridSearchCV\n",
    "\n",
    "x_train2, x_test2, y_train2, y_test2 = train_test_split(data, y, test_size=0.2, random_state=0)\n",
    "\n",
    "x_train2 = np.squeeze(x_train2)\n",
    "x_test2 = np.squeeze(x_test2)"
   ]
  },
  {
   "cell_type": "code",
   "execution_count": 28,
   "metadata": {},
   "outputs": [
    {
     "data": {
      "text/plain": [
       "'#  Tuning parametri SVM\\nparams_grid = [{\\'kernel\\': [\\'rbf\\'], \\'gamma\\': [1e-3, 1e-4],\\n                     \\'C\\': [1, 10, 100, 1000]}]\\nsvm_model = GridSearchCV(SVC(), params_grid, cv=5)\\nsvm_model.fit(x_train2, y_train2)\\nprint(\\'Best score for training data:\\', svm_model.best_score_,\"\\n\") \\n\\nprint(\\'Best C:\\',svm_model.best_estimator_.C,\"\\n\") \\nprint(\\'Best Kernel:\\',svm_model.best_estimator_.kernel,\"\\n\")\\nprint(\\'Best Gamma:\\',svm_model.best_estimator_.gamma,\"\\n\")\\n'"
      ]
     },
     "execution_count": 28,
     "metadata": {},
     "output_type": "execute_result"
    }
   ],
   "source": [
    "'''#  Tuning parametri SVM\n",
    "params_grid = [{'kernel': ['rbf'], 'gamma': [1e-3, 1e-4],\n",
    "                     'C': [1, 10, 100, 1000]}]\n",
    "svm_model = GridSearchCV(SVC(), params_grid, cv=5)\n",
    "svm_model.fit(x_train2, y_train2)\n",
    "print('Best score for training data:', svm_model.best_score_,\"\\n\") \n",
    "\n",
    "print('Best C:',svm_model.best_estimator_.C,\"\\n\") \n",
    "print('Best Kernel:',svm_model.best_estimator_.kernel,\"\\n\")\n",
    "print('Best Gamma:',svm_model.best_estimator_.gamma,\"\\n\")\n",
    "'''"
   ]
  },
  {
   "cell_type": "code",
   "execution_count": 29,
   "metadata": {},
   "outputs": [],
   "source": [
    "svm_model_rbf = SVC(kernel = 'rbf', C = 3, gamma = 'scale', shrinking = False, break_ties = True).fit(x_train2, y_train2) \n",
    "svm_predictions = svm_model_rbf.predict(x_test2) "
   ]
  },
  {
   "cell_type": "code",
   "execution_count": 30,
   "metadata": {},
   "outputs": [
    {
     "name": "stdout",
     "output_type": "stream",
     "text": [
      "              precision    recall  f1-score   support\n",
      "\n",
      "      Action       0.70      0.76      0.73       224\n",
      "      Comedy       0.65      0.62      0.64       239\n",
      " Documentary       0.90      0.87      0.88       243\n",
      "       Drama       0.62      0.58      0.60       259\n",
      "      Horror       0.69      0.74      0.71       214\n",
      "\n",
      "    accuracy                           0.71      1179\n",
      "   macro avg       0.71      0.71      0.71      1179\n",
      "weighted avg       0.71      0.71      0.71      1179\n",
      "\n"
     ]
    },
    {
     "data": {
      "text/plain": [
       "<matplotlib.image.AxesImage at 0x192b2908bb0>"
      ]
     },
     "execution_count": 30,
     "metadata": {},
     "output_type": "execute_result"
    },
    {
     "data": {
      "image/png": "[encoded data removed]",
      "text/plain": [
       "<Figure size 432x288 with 1 Axes>"
      ]
     },
     "metadata": {
      "needs_background": "light"
     },
     "output_type": "display_data"
    }
   ],
   "source": [
    "# creating a confusion matrix \n",
    "cm = confusion_matrix(y_test2, svm_predictions) \n",
    "print(classification_report(y_test2, svm_predictions))\n",
    "plt.imshow(cm, cmap=plt.cm.Blues)"
   ]
  },
  {
   "cell_type": "markdown",
   "metadata": {},
   "source": [
    "### 4) RandomForest"
   ]
  },
  {
   "cell_type": "markdown",
   "metadata": {},
   "source": [
    "Il quarto modello è un classificatore Random Forest con 500 alberi e funzione di Gini"
   ]
  },
  {
   "cell_type": "code",
   "execution_count": 31,
   "metadata": {},
   "outputs": [],
   "source": [
    "from sklearn.ensemble import RandomForestClassifier\n",
    "\n",
    "label = pd.factorize(y)\n",
    "\n",
    "x_train3, x_test3, y_train3, y_test3 = train_test_split(data, label[0], test_size=0.33, random_state=42)\n",
    "x_train3 = np.squeeze(x_train3)\n",
    "x_test3 = np.squeeze(x_test3)"
   ]
  },
  {
   "cell_type": "code",
   "execution_count": 32,
   "metadata": {},
   "outputs": [],
   "source": [
    "classifier = RandomForestClassifier(n_estimators = 500, criterion = 'gini', random_state = 42)\n",
    "classifier.fit(x_train3, y_train3)\n",
    "y_pred3 = classifier.predict(x_test3)"
   ]
  },
  {
   "cell_type": "code",
   "execution_count": 33,
   "metadata": {},
   "outputs": [
    {
     "name": "stdout",
     "output_type": "stream",
     "text": [
      "              precision    recall  f1-score   support\n",
      "\n",
      "           0       0.70      0.69      0.70       420\n",
      "           1       0.58      0.65      0.61       382\n",
      "           2       0.83      0.86      0.85       380\n",
      "           3       0.55      0.44      0.49       380\n",
      "           4       0.68      0.71      0.69       384\n",
      "\n",
      "    accuracy                           0.67      1946\n",
      "   macro avg       0.67      0.67      0.67      1946\n",
      "weighted avg       0.67      0.67      0.67      1946\n",
      "\n"
     ]
    },
    {
     "data": {
      "text/plain": [
       "<matplotlib.image.AxesImage at 0x192b29ae8b0>"
      ]
     },
     "execution_count": 33,
     "metadata": {},
     "output_type": "execute_result"
    },
    {
     "data": {
      "image/png": "[encoded data removed]",
      "text/plain": [
       "<Figure size 432x288 with 1 Axes>"
      ]
     },
     "metadata": {
      "needs_background": "light"
     },
     "output_type": "display_data"
    }
   ],
   "source": [
    "# creating a confusion matrix \n",
    "cm = confusion_matrix(y_test3, y_pred3) \n",
    "print(classification_report(y_test3, y_pred3))\n",
    "plt.imshow(cm, cmap=plt.cm.Blues)"
   ]
  },
  {
   "cell_type": "markdown",
   "metadata": {},
   "source": [
    "### 5) KNN"
   ]
  },
  {
   "cell_type": "markdown",
   "metadata": {},
   "source": [
    "Il 5 e ultimo modello è un classificatore K-Nearest Neighbour "
   ]
  },
  {
   "cell_type": "code",
   "execution_count": 34,
   "metadata": {},
   "outputs": [],
   "source": [
    "#Import knearest neighbors Classifier model\n",
    "from sklearn.neighbors import KNeighborsClassifier\n",
    "\n",
    "#Create KNN Classifier\n",
    "knn = KNeighborsClassifier(n_neighbors=10)\n",
    "\n",
    "#Train the model using the training sets\n",
    "knn.fit(x_train2, y_train2)\n",
    "\n",
    "#Predict the response for test dataset\n",
    "pred_knn = knn.predict(x_test2)"
   ]
  },
  {
   "cell_type": "code",
   "execution_count": 35,
   "metadata": {},
   "outputs": [
    {
     "name": "stdout",
     "output_type": "stream",
     "text": [
      "              precision    recall  f1-score   support\n",
      "\n",
      "      Action       0.55      0.82      0.66       224\n",
      "      Comedy       0.45      0.73      0.56       239\n",
      " Documentary       0.92      0.74      0.82       243\n",
      "       Drama       0.50      0.24      0.32       259\n",
      "      Horror       0.65      0.43      0.52       214\n",
      "\n",
      "    accuracy                           0.59      1179\n",
      "   macro avg       0.62      0.59      0.58      1179\n",
      "weighted avg       0.62      0.59      0.57      1179\n",
      "\n"
     ]
    },
    {
     "data": {
      "text/plain": [
       "<matplotlib.image.AxesImage at 0x192b4ac4a30>"
      ]
     },
     "execution_count": 35,
     "metadata": {},
     "output_type": "execute_result"
    },
    {
     "data": {
      "image/png": "[encoded data removed]",
      "text/plain": [
       "<Figure size 432x288 with 1 Axes>"
      ]
     },
     "metadata": {
      "needs_background": "light"
     },
     "output_type": "display_data"
    }
   ],
   "source": [
    "# creating a confusion matrix \n",
    "cm = confusion_matrix(y_test2, pred_knn) \n",
    "print(classification_report(y_test2, pred_knn))\n",
    "plt.imshow(cm, cmap=plt.cm.Blues)"
   ]
  }
 ],
 "metadata": {
  "kernelspec": {
   "display_name": "Python 3",
   "language": "python",
   "name": "python3"
  },
  "language_info": {
   "codemirror_mode": {
    "name": "ipython",
    "version": 3
   },
   "file_extension": ".py",
   "mimetype": "text/x-python",
   "name": "python",
   "nbconvert_exporter": "python",
   "pygments_lexer": "ipython3",
   "version": "3.8.5"
  }
 },
 "nbformat": 4,
 "nbformat_minor": 4
}
